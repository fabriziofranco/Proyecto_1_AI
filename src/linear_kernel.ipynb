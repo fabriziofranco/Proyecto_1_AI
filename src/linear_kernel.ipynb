{
 "cells": [
  {
   "cell_type": "markdown",
   "metadata": {},
   "source": [
    "### Imports"
   ]
  },
  {
   "cell_type": "code",
   "execution_count": 1,
   "metadata": {},
   "outputs": [],
   "source": [
    "import utilitarios as utils #Funciones propias\n",
    "import pandas as pd\n",
    "import numpy as np\n",
    "import cv2\n",
    "import math\n",
    "from sklearn.svm import LinearSVC\n",
    "from sklearn.pipeline import make_pipeline\n",
    "from sklearn.preprocessing import StandardScaler"
   ]
  },
  {
   "cell_type": "markdown",
   "metadata": {},
   "source": [
    "### Semilla"
   ]
  },
  {
   "cell_type": "code",
   "execution_count": 2,
   "metadata": {},
   "outputs": [],
   "source": [
    "random_seed = 42 #Number of life :) "
   ]
  },
  {
   "cell_type": "markdown",
   "metadata": {},
   "source": [
    "### Cantidad de muestras por categoria"
   ]
  },
  {
   "cell_type": "code",
   "execution_count": 3,
   "metadata": {},
   "outputs": [
    {
     "data": {
      "text/plain": [
       "{0: 195,\n",
       " 1: 2158,\n",
       " 2: 2466,\n",
       " 3: 1599,\n",
       " 4: 2239,\n",
       " 5: 2210,\n",
       " 6: 522,\n",
       " 7: 1640,\n",
       " 8: 1648,\n",
       " 9: 1560}"
      ]
     },
     "execution_count": 3,
     "metadata": {},
     "output_type": "execute_result"
    }
   ],
   "source": [
    "X, y, X_raw = utils.get_data(src_dir=\"Data_preprocesada/\", iterations=1)\n",
    "\n",
    "categories, counts =  np.unique(y, return_counts=True)\n",
    "dict(zip(categories, counts))"
   ]
  },
  {
   "cell_type": "markdown",
   "metadata": {},
   "source": [
    "### K-fold Cross Validation"
   ]
  },
  {
   "cell_type": "code",
   "execution_count": 2,
   "metadata": {},
   "outputs": [],
   "source": [
    "def test_k_fold(min_cuts , max_cuts, max_folds, k_fold_func):\n",
    "    X, y, X_raw = utils.get_data(src_dir=\"Data_preprocesada/\", iterations= min_cuts-1)\n",
    "\n",
    "    dataframe = []\n",
    "    columns = ['Number of cuts', 'Length of X', 'K fold',\n",
    "                'Train error', 'Train var. error', 'Train bias error', 'Train list errors',\n",
    "                'Test error', 'Test var. error', 'Test bias error', 'Test list errors',\n",
    "                ]\n",
    "\n",
    "    for iteration in range(min_cuts, max_cuts+1):\n",
    "        X, X_raw = utils.iterate_data(X_raw)\n",
    "        X = utils.normalization(X)\n",
    "        X_length = len(X[0])\n",
    "\n",
    "\n",
    "        for number_of_folds in range(2, max_folds+1):\n",
    "            data_aux = [iteration, X_length, number_of_folds]\n",
    "\n",
    "            k_folds_data = k_fold_func(X, y, number_of_folds, random_seed)\n",
    "\n",
    "            clf = make_pipeline(StandardScaler(), \n",
    "                                LinearSVC(  dual= False,\n",
    "                                            random_state=random_seed))\n",
    "\n",
    "            error_train = 0\n",
    "            bias_train = 0\n",
    "            varianza_train = 0\n",
    "            list_of_errors_train = []\n",
    "\n",
    "            error_test = 0\n",
    "            bias_test = 0\n",
    "            varianza_test = 0\n",
    "            list_of_errors_test = []\n",
    "\n",
    "            for i in range(number_of_folds):\n",
    "                clf.fit(k_folds_data[i]['X_train'], k_folds_data[i]['y_train'])\n",
    "\n",
    "                error_i_train = 1 - clf.score(k_folds_data[i]['X_train'], k_folds_data[i]['y_train'])\n",
    "                error_i_test = 1 - clf.score(k_folds_data[i]['X_test'], k_folds_data[i]['y_test'])\n",
    "\n",
    "                error_i_train = round(error_i_train,6)\n",
    "                error_i_test = round(error_i_test,6)\n",
    "\n",
    "                list_of_errors_train.append(error_i_train)\n",
    "                list_of_errors_test.append(error_i_test)\n",
    "\n",
    "            error_train = sum(list_of_errors_train) / len(list_of_errors_train)\n",
    "            error_test = sum(list_of_errors_test) / len(list_of_errors_test)\n",
    "\n",
    "\n",
    "            varianza_train = sum((x-error_train)**2 for x in list_of_errors_train) / len(list_of_errors_train)\n",
    "            varianza_test = sum((x-error_test)**2 for x in list_of_errors_test) / len(list_of_errors_test)\n",
    "\n",
    "            bias_train = math.sqrt(error_train - varianza_train)\n",
    "            bias_test = math.sqrt(error_test - varianza_test)\n",
    "\n",
    "\n",
    "            data_aux.extend([error_train,varianza_train, bias_train,list_of_errors_train])\n",
    "            data_aux.extend([error_test,varianza_test, bias_test,list_of_errors_test])\n",
    "\n",
    "            dataframe.append(data_aux)\n",
    "\n",
    "    dataframe = pd.DataFrame(data = dataframe, columns = columns)\n",
    "    return dataframe"
   ]
  },
  {
   "cell_type": "markdown",
   "metadata": {},
   "source": [
    "### Bootstrapping"
   ]
  },
  {
   "cell_type": "code",
   "execution_count": 22,
   "metadata": {},
   "outputs": [],
   "source": [
    "def test_bootstrap(min_cuts, max_cuts, max_subsets, training_sample):\n",
    "\n",
    "    X, y, X_raw = utils.get_data(src_dir=\"Data_preprocesada/\", iterations= min_cuts-1)\n",
    "\n",
    "    dataframe = []\n",
    "    columns = ['Number of cuts', 'Length of X', 'K subsets',\n",
    "                'Train error', 'Train var. error', 'Train bias error', 'Train list errors',\n",
    "                'Test error', 'Test var. error', 'Test bias error', 'Test list errors',\n",
    "                ]\n",
    "\n",
    "\n",
    "    for iteration in range(min_cuts, max_cuts+1):\n",
    "        X, X_raw = utils.iterate_data(X_raw)\n",
    "        X = utils.normalization(X)\n",
    "        X_length = len(X[0])\n",
    "\n",
    "\n",
    "        for number_of_subsets in range(1, max_subsets+1):\n",
    "            data_aux = [iteration, X_length, number_of_subsets]\n",
    "\n",
    "            k_subsets_data = utils.get_bootstrap_subsets(X, y, number_of_subsets, training_sample, random_seed)\n",
    "\n",
    "            clf = make_pipeline(StandardScaler(), \n",
    "                                LinearSVC(  dual= False,\n",
    "                                            random_state=random_seed))\n",
    "\n",
    "            error_train = 0\n",
    "            bias_train = 0\n",
    "            varianza_train = 0\n",
    "            list_of_errors_train = []\n",
    "\n",
    "            error_test = 0\n",
    "            bias_test = 0\n",
    "            varianza_test = 0\n",
    "            list_of_errors_test = []\n",
    "\n",
    "            for i in range(number_of_subsets):\n",
    "                clf.fit(k_subsets_data[i]['X_train'], k_subsets_data[i]['y_train'])\n",
    "\n",
    "                error_i_train = 1 - clf.score(k_subsets_data[i]['X_train'], k_subsets_data[i]['y_train'])\n",
    "                error_i_test = 1 - clf.score(k_subsets_data[i]['X_test'], k_subsets_data[i]['y_test'])\n",
    "\n",
    "                error_i_train = round(error_i_train,6)\n",
    "                error_i_test = round(error_i_test,6)\n",
    "\n",
    "                list_of_errors_train.append(error_i_train)\n",
    "                list_of_errors_test.append(error_i_test)\n",
    "\n",
    "            error_train = sum(list_of_errors_train) / len(list_of_errors_train)\n",
    "            error_test = sum(list_of_errors_test) / len(list_of_errors_test)\n",
    "\n",
    "\n",
    "            varianza_train = sum((x-error_train)**2 for x in list_of_errors_train) / len(list_of_errors_train)\n",
    "            varianza_test = sum((x-error_test)**2 for x in list_of_errors_test) / len(list_of_errors_test)\n",
    "\n",
    "            bias_train = math.sqrt(error_train - varianza_train)\n",
    "            bias_test = math.sqrt(error_test - varianza_test)\n",
    "\n",
    "\n",
    "            data_aux.extend([error_train,varianza_train, bias_train,list_of_errors_train])\n",
    "            data_aux.extend([error_test,varianza_test, bias_test,list_of_errors_test])\n",
    "\n",
    "            dataframe.append(data_aux)\n",
    "\n",
    "    dataframe_bootstrap = pd.DataFrame(data = dataframe, columns = columns)\n",
    "    return dataframe_bootstrap"
   ]
  },
  {
   "cell_type": "markdown",
   "metadata": {},
   "source": [
    "### Experimientación"
   ]
  },
  {
   "cell_type": "code",
   "execution_count": 1,
   "metadata": {},
   "outputs": [
    {
     "ename": "NameError",
     "evalue": "name 'test_k_fold' is not defined",
     "output_type": "error",
     "traceback": [
      "\u001b[0;31m---------------------------------------------------------------------------\u001b[0m",
      "\u001b[0;31mNameError\u001b[0m                                 Traceback (most recent call last)",
      "\u001b[1;32m/Users/carlosreategui/utec/2022-1/ia/proyectos/Proyecto_1_AI/src/linear_kernel.ipynb Cell 12'\u001b[0m in \u001b[0;36m<cell line: 5>\u001b[0;34m()\u001b[0m\n\u001b[1;32m      <a href='vscode-notebook-cell:/Users/carlosreategui/utec/2022-1/ia/proyectos/Proyecto_1_AI/src/linear_kernel.ipynb#ch0000013?line=1'>2</a>\u001b[0m max_cuts \u001b[39m=\u001b[39m  \u001b[39m3\u001b[39m\n\u001b[1;32m      <a href='vscode-notebook-cell:/Users/carlosreategui/utec/2022-1/ia/proyectos/Proyecto_1_AI/src/linear_kernel.ipynb#ch0000013?line=2'>3</a>\u001b[0m max_folds \u001b[39m=\u001b[39m \u001b[39m2\u001b[39m\n\u001b[0;32m----> <a href='vscode-notebook-cell:/Users/carlosreategui/utec/2022-1/ia/proyectos/Proyecto_1_AI/src/linear_kernel.ipynb#ch0000013?line=4'>5</a>\u001b[0m resultados_test_stratified_k_fold \u001b[39m=\u001b[39m test_k_fold(min_cuts,max_cuts,max_folds,k_fold_func\u001b[39m=\u001b[39mutils\u001b[39m.\u001b[39mget_stratified_k_fold_cross_validation)\n\u001b[1;32m      <a href='vscode-notebook-cell:/Users/carlosreategui/utec/2022-1/ia/proyectos/Proyecto_1_AI/src/linear_kernel.ipynb#ch0000013?line=5'>6</a>\u001b[0m resultados_test_stratified_k_fold\n\u001b[1;32m     <a href='vscode-notebook-cell:/Users/carlosreategui/utec/2022-1/ia/proyectos/Proyecto_1_AI/src/linear_kernel.ipynb#ch0000013?line=9'>10</a>\u001b[0m min_cuts \u001b[39m=\u001b[39m \u001b[39m3\u001b[39m\n",
      "\u001b[0;31mNameError\u001b[0m: name 'test_k_fold' is not defined"
     ]
    }
   ],
   "source": [
    "min_cuts = 3\n",
    "max_cuts =  3\n",
    "max_folds = 2\n",
    "\n",
    "resultados_test_stratified_k_fold = test_k_fold(min_cuts,max_cuts,max_folds,k_fold_func=utils.get_stratified_k_fold_cross_validation)\n",
    "resultados_test_stratified_k_fold\n",
    "\n",
    "\n",
    "\n",
    "min_cuts = 3\n",
    "max_cuts =  3\n",
    "max_folds = 3\n",
    "\n",
    "# resultados_test_non_stratified_k_fold = test_k_fold(min_cuts,max_cuts,max_folds,k_fold_func=utils.get_non_stratified_k_fold_cross_validation)\n",
    "#resultados_test_non_stratified_k_fold\n",
    "\n",
    "\n",
    "min_cuts = 3\n",
    "max_cuts =  3\n",
    "max_subsets = 2 \n",
    "training_sample = 0.70\n",
    "\n",
    "# resultados_test_bootstrap = test_bootstrap(min_cuts, max_cuts, max_subsets, training_sample)\n",
    "# resultados_test_bootstrap"
   ]
  },
  {
   "cell_type": "markdown",
   "metadata": {},
   "source": [
    "### Exportar resultados"
   ]
  },
  {
   "cell_type": "code",
   "execution_count": 19,
   "metadata": {},
   "outputs": [
    {
     "data": {
      "text/html": [
       "<div>\n",
       "<style scoped>\n",
       "    .dataframe tbody tr th:only-of-type {\n",
       "        vertical-align: middle;\n",
       "    }\n",
       "\n",
       "    .dataframe tbody tr th {\n",
       "        vertical-align: top;\n",
       "    }\n",
       "\n",
       "    .dataframe thead th {\n",
       "        text-align: right;\n",
       "    }\n",
       "</style>\n",
       "<table border=\"1\" class=\"dataframe\">\n",
       "  <thead>\n",
       "    <tr style=\"text-align: right;\">\n",
       "      <th></th>\n",
       "      <th>Number of cuts</th>\n",
       "      <th>Length of X</th>\n",
       "      <th>K fold</th>\n",
       "      <th>Train error</th>\n",
       "      <th>Train var. error</th>\n",
       "      <th>Train bias error</th>\n",
       "      <th>Train list errors</th>\n",
       "      <th>Test error</th>\n",
       "      <th>Test var. error</th>\n",
       "      <th>Test bias error</th>\n",
       "      <th>Test list errors</th>\n",
       "    </tr>\n",
       "  </thead>\n",
       "  <tbody>\n",
       "    <tr>\n",
       "      <th>0</th>\n",
       "      <td>3</td>\n",
       "      <td>480</td>\n",
       "      <td>2</td>\n",
       "      <td>0.249553</td>\n",
       "      <td>0.00002</td>\n",
       "      <td>0.499533</td>\n",
       "      <td>[0.254003, 0.245104]</td>\n",
       "      <td>0.368972</td>\n",
       "      <td>4.900000e-07</td>\n",
       "      <td>0.60743</td>\n",
       "      <td>[0.368272, 0.369672]</td>\n",
       "    </tr>\n",
       "  </tbody>\n",
       "</table>\n",
       "</div>"
      ],
      "text/plain": [
       "   Number of cuts  Length of X  K fold  Train error  Train var. error  \\\n",
       "0               3          480       2     0.249553           0.00002   \n",
       "\n",
       "   Train bias error     Train list errors  Test error  Test var. error  \\\n",
       "0          0.499533  [0.254003, 0.245104]    0.368972     4.900000e-07   \n",
       "\n",
       "   Test bias error      Test list errors  \n",
       "0          0.60743  [0.368272, 0.369672]  "
      ]
     },
     "execution_count": 19,
     "metadata": {},
     "output_type": "execute_result"
    }
   ],
   "source": [
    "output_path = 'Resultados/linear_kernel/'\n",
    "# resultados_test_bootstrap\n",
    "# resultados_test_stratified_k_fold.to_csv(output_path + 'stratified_k_fold.csv', delimiter = \";\")\n",
    "# resultados_test_non_stratified_k_fold.to_csv(output_path + 'non_stratified_k_fold.csv', delimiter = \";\")\n",
    "# resultados_test_bootstrap.to_csv(output_path + 'bootstrap.csv', delimiter = \";\")"
   ]
  }
 ],
 "metadata": {
  "interpreter": {
   "hash": "d99ae4127b7692ee37bb29636c1ff3b8dbb558ab7ed428de2a7abfd2e950a682"
  },
  "kernelspec": {
   "display_name": "Python 3.9.1 ('env': venv)",
   "language": "python",
   "name": "python3"
  },
  "language_info": {
   "codemirror_mode": {
    "name": "ipython",
    "version": 3
   },
   "file_extension": ".py",
   "mimetype": "text/x-python",
   "name": "python",
   "nbconvert_exporter": "python",
   "pygments_lexer": "ipython3",
   "version": "3.9.1"
  }
 },
 "nbformat": 4,
 "nbformat_minor": 2
}
