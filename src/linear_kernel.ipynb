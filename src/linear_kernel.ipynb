{
 "cells": [
  {
   "cell_type": "markdown",
   "metadata": {},
   "source": [
    "### Imports"
   ]
  },
  {
   "cell_type": "code",
   "execution_count": 10,
   "metadata": {},
   "outputs": [],
   "source": [
    "import utilitarios as utils #Funciones propias\n",
    "import pandas as pd\n",
    "import numpy as np\n",
    "import cv2\n",
    "import math\n",
    "from sklearn.svm import LinearSVC\n",
    "from sklearn.pipeline import make_pipeline\n",
    "from sklearn.preprocessing import StandardScaler"
   ]
  },
  {
   "cell_type": "markdown",
   "metadata": {},
   "source": [
    "### Semilla"
   ]
  },
  {
   "cell_type": "code",
   "execution_count": 11,
   "metadata": {},
   "outputs": [],
   "source": [
    "random_seed = 42 #Number of life :) "
   ]
  },
  {
   "cell_type": "markdown",
   "metadata": {},
   "source": [
    "### Cantidad de muestras por categoria"
   ]
  },
  {
   "cell_type": "code",
   "execution_count": 12,
   "metadata": {},
   "outputs": [
    {
     "data": {
      "text/plain": [
       "{0: 195,\n",
       " 1: 2158,\n",
       " 2: 2466,\n",
       " 3: 1599,\n",
       " 4: 2239,\n",
       " 5: 2210,\n",
       " 6: 522,\n",
       " 7: 1640,\n",
       " 8: 1648,\n",
       " 9: 1560}"
      ]
     },
     "execution_count": 12,
     "metadata": {},
     "output_type": "execute_result"
    }
   ],
   "source": [
    "X, y, X_raw = utils.get_data(src_dir=\"Data_preprocesada/\", iterations=1)\n",
    "\n",
    "categories, counts =  np.unique(y, return_counts=True)\n",
    "dict(zip(categories, counts))"
   ]
  },
  {
   "cell_type": "markdown",
   "metadata": {},
   "source": [
    "### K-fold Cross Validation"
   ]
  },
  {
   "cell_type": "code",
   "execution_count": 13,
   "metadata": {},
   "outputs": [],
   "source": [
    "def test_k_fold(min_cuts , max_cuts, max_folds, k_fold_func):\n",
    "    X, y, X_raw = utils.get_data(src_dir=\"Data_preprocesada/\", iterations= min_cuts-1)\n",
    "\n",
    "    dataframe = []\n",
    "    columns = ['Number of cuts', 'Length of X', 'K fold',\n",
    "                'Train error', 'Train var. error', 'Train bias error', 'Train list errors',\n",
    "                'Test error', 'Test var. error', 'Test bias error', 'Test list errors',\n",
    "                ]\n",
    "\n",
    "    for iteration in range(min_cuts, max_cuts+1):\n",
    "        X, X_raw = utils.iterate_data(X_raw)\n",
    "        X = utils.normalization(X)\n",
    "        X_length = len(X[0])\n",
    "\n",
    "\n",
    "        for number_of_folds in range(2, max_folds+1):\n",
    "            data_aux = [iteration, X_length, number_of_folds]\n",
    "\n",
    "            k_folds_data = k_fold_func(X, y, number_of_folds, random_seed)\n",
    "\n",
    "            clf = make_pipeline(StandardScaler(), \n",
    "                                LinearSVC(  dual= False,\n",
    "                                            random_state=random_seed))\n",
    "\n",
    "            error_train = 0\n",
    "            bias_train = 0\n",
    "            varianza_train = 0\n",
    "            list_of_errors_train = []\n",
    "\n",
    "            error_test = 0\n",
    "            bias_test = 0\n",
    "            varianza_test = 0\n",
    "            list_of_errors_test = []\n",
    "\n",
    "            for i in range(number_of_folds):\n",
    "                clf.fit(k_folds_data[i]['X_train'], k_folds_data[i]['y_train'])\n",
    "\n",
    "                error_i_train = 1 - clf.score(k_folds_data[i]['X_train'], k_folds_data[i]['y_train'])\n",
    "                error_i_test = 1 - clf.score(k_folds_data[i]['X_test'], k_folds_data[i]['y_test'])\n",
    "\n",
    "                error_i_train = round(error_i_train,6)\n",
    "                error_i_test = round(error_i_test,6)\n",
    "\n",
    "                list_of_errors_train.append(error_i_train)\n",
    "                list_of_errors_test.append(error_i_test)\n",
    "\n",
    "            error_train = sum(list_of_errors_train) / len(list_of_errors_train)\n",
    "            error_test = sum(list_of_errors_test) / len(list_of_errors_test)\n",
    "\n",
    "\n",
    "            varianza_train = sum((x-error_train)**2 for x in list_of_errors_train) / len(list_of_errors_train)\n",
    "            varianza_test = sum((x-error_test)**2 for x in list_of_errors_test) / len(list_of_errors_test)\n",
    "\n",
    "            bias_train = math.sqrt(error_train - varianza_train)\n",
    "            bias_test = math.sqrt(error_test - varianza_test)\n",
    "\n",
    "\n",
    "            data_aux.extend([error_train,varianza_train, bias_train,list_of_errors_train])\n",
    "            data_aux.extend([error_test,varianza_test, bias_test,list_of_errors_test])\n",
    "\n",
    "            dataframe.append(data_aux)\n",
    "\n",
    "    dataframe = pd.DataFrame(data = dataframe, columns = columns)\n",
    "    return dataframe"
   ]
  },
  {
   "cell_type": "markdown",
   "metadata": {},
   "source": [
    "### Bootstrapping"
   ]
  },
  {
   "cell_type": "code",
   "execution_count": 14,
   "metadata": {},
   "outputs": [],
   "source": [
    "def test_bootstrap(min_cuts, max_cuts, max_subsets, training_sample):\n",
    "\n",
    "    X, y, X_raw = utils.get_data(src_dir=\"Data_preprocesada/\", iterations= min_cuts-1)\n",
    "\n",
    "    dataframe = []\n",
    "    columns = ['Number of cuts', 'Length of X', 'K subsets',\n",
    "                'Train error', 'Train var. error', 'Train bias error', 'Train list errors',\n",
    "                'Test error', 'Test var. error', 'Test bias error', 'Test list errors',\n",
    "                ]\n",
    "\n",
    "\n",
    "    for iteration in range(min_cuts, max_cuts+1):\n",
    "        X, X_raw = utils.iterate_data(X_raw)\n",
    "        X = utils.normalization(X)\n",
    "        X_length = len(X[0])\n",
    "\n",
    "\n",
    "        for number_of_subsets in range(1, max_subsets+1):\n",
    "            data_aux = [iteration, X_length, number_of_subsets]\n",
    "\n",
    "            k_subsets_data = utils.get_bootstrap_subsets(X, y, number_of_subsets, training_sample, random_seed)\n",
    "\n",
    "            clf = make_pipeline(StandardScaler(), \n",
    "                                LinearSVC(  dual= False,\n",
    "                                            random_state=random_seed))\n",
    "\n",
    "            error_train = 0\n",
    "            bias_train = 0\n",
    "            varianza_train = 0\n",
    "            list_of_errors_train = []\n",
    "\n",
    "            error_test = 0\n",
    "            bias_test = 0\n",
    "            varianza_test = 0\n",
    "            list_of_errors_test = []\n",
    "\n",
    "            for i in range(number_of_subsets):\n",
    "                clf.fit(k_subsets_data[i]['X_train'], k_subsets_data[i]['y_train'])\n",
    "\n",
    "                error_i_train = 1 - clf.score(k_subsets_data[i]['X_train'], k_subsets_data[i]['y_train'])\n",
    "                error_i_test = 1 - clf.score(k_subsets_data[i]['X_test'], k_subsets_data[i]['y_test'])\n",
    "\n",
    "                error_i_train = round(error_i_train,6)\n",
    "                error_i_test = round(error_i_test,6)\n",
    "\n",
    "                list_of_errors_train.append(error_i_train)\n",
    "                list_of_errors_test.append(error_i_test)\n",
    "\n",
    "            error_train = sum(list_of_errors_train) / len(list_of_errors_train)\n",
    "            error_test = sum(list_of_errors_test) / len(list_of_errors_test)\n",
    "\n",
    "\n",
    "            varianza_train = sum((x-error_train)**2 for x in list_of_errors_train) / len(list_of_errors_train)\n",
    "            varianza_test = sum((x-error_test)**2 for x in list_of_errors_test) / len(list_of_errors_test)\n",
    "\n",
    "            bias_train = math.sqrt(error_train - varianza_train)\n",
    "            bias_test = math.sqrt(error_test - varianza_test)\n",
    "\n",
    "\n",
    "            data_aux.extend([error_train,varianza_train, bias_train,list_of_errors_train])\n",
    "            data_aux.extend([error_test,varianza_test, bias_test,list_of_errors_test])\n",
    "\n",
    "            dataframe.append(data_aux)\n",
    "\n",
    "    dataframe_bootstrap = pd.DataFrame(data = dataframe, columns = columns)\n",
    "    return dataframe_bootstrap"
   ]
  },
  {
   "cell_type": "markdown",
   "metadata": {},
   "source": [
    "### Experimientación"
   ]
  },
  {
   "cell_type": "code",
   "execution_count": 15,
   "metadata": {},
   "outputs": [],
   "source": [
    "min_cuts = 3\n",
    "max_cuts =  8\n",
    "max_folds = 8\n",
    "\n",
    "resultados_test_stratified_k_fold = test_k_fold(min_cuts,max_cuts,max_folds,k_fold_func=utils.get_stratified_k_fold_cross_validation)"
   ]
  },
  {
   "cell_type": "code",
   "execution_count": null,
   "metadata": {},
   "outputs": [],
   "source": [
    "min_cuts = 3\n",
    "max_cuts =  8\n",
    "max_folds = 8\n",
    "\n",
    "resultados_test_non_stratified_k_fold = test_k_fold(min_cuts,max_cuts,max_folds,k_fold_func=utils.get_non_stratified_k_fold_cross_validation)"
   ]
  },
  {
   "cell_type": "code",
   "execution_count": null,
   "metadata": {},
   "outputs": [
    {
     "name": "stderr",
     "output_type": "stream",
     "text": [
      "/Users/carlosreategui/utec/2022-1/ia/proyectos/Proyecto_1_AI/env/lib/python3.9/site-packages/sklearn/svm/_base.py:1206: ConvergenceWarning: Liblinear failed to converge, increase the number of iterations.\n",
      "  warnings.warn(\n"
     ]
    }
   ],
   "source": [
    "min_cuts = 3\n",
    "max_cuts =  8 # 8\n",
    "max_subsets = 6 # 6\n",
    "training_sample = 0.70\n",
    "\n",
    "resultados_test_bootstrap = test_bootstrap(min_cuts, max_cuts, max_subsets, training_sample)"
   ]
  },
  {
   "cell_type": "markdown",
   "metadata": {},
   "source": [
    "### Exportar resultados"
   ]
  },
  {
   "cell_type": "code",
   "execution_count": null,
   "metadata": {},
   "outputs": [],
   "source": [
    "output_path = 'Resultados/linear_kernel/'\n",
    "resultados_test_stratified_k_fold.to_csv(output_path + 'stratified_k_fold.csv', sep = \";\")\n",
    "resultados_test_non_stratified_k_fold.to_csv(output_path + 'non_stratified_k_fold.csv', sep = \";\")\n",
    "resultados_test_bootstrap.to_csv(output_path + 'bootstrap.csv', sep = \";\")"
   ]
  }
 ],
 "metadata": {
  "interpreter": {
   "hash": "d99ae4127b7692ee37bb29636c1ff3b8dbb558ab7ed428de2a7abfd2e950a682"
  },
  "kernelspec": {
   "display_name": "Python 3.9.1 ('env': venv)",
   "language": "python",
   "name": "python3"
  },
  "language_info": {
   "codemirror_mode": {
    "name": "ipython",
    "version": 3
   },
   "file_extension": ".py",
   "mimetype": "text/x-python",
   "name": "python",
   "nbconvert_exporter": "python",
   "pygments_lexer": "ipython3",
   "version": "3.9.1"
  }
 },
 "nbformat": 4,
 "nbformat_minor": 2
}
