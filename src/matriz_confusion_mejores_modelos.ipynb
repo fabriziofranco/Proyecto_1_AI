{
 "cells": [
  {
   "cell_type": "code",
   "execution_count": 1,
   "metadata": {},
   "outputs": [],
   "source": [
    "import pandas as pd\n",
    "import numpy as np\n",
    "import matplotlib.pyplot as plt\n",
    "import seaborn as sn\n",
    "import utilitarios as utils\n",
    "\n",
    "path_knn = 'Resultados/knn/'\n",
    "path_radial_basis = 'Resultados/radial_basis_kernel/'\n",
    "path_linear = 'Resultados/linear_kernel/'"
   ]
  },
  {
   "cell_type": "markdown",
   "metadata": {},
   "source": [
    "# KNN"
   ]
  },
  {
   "cell_type": "code",
   "execution_count": 2,
   "metadata": {},
   "outputs": [],
   "source": [
    "knn_bootstrap = pd.read_csv(path_knn + 'bootstrap.csv', index_col=0, sep=\";\")\n",
    "\n",
    "knn_bootstrap.sort_values(by='Test bias error', ascending = True, inplace = True)\n",
    "knn_bootstrap_mejor_modelo = knn_bootstrap[:1]"
   ]
  },
  {
   "cell_type": "code",
   "execution_count": 3,
   "metadata": {},
   "outputs": [],
   "source": [
    "knn_non_stratified_k_fold = pd.read_csv(path_knn + 'non_stratified_k_fold.csv', index_col=0, sep=\";\")\n",
    "\n",
    "knn_non_stratified_k_fold.sort_values(by='Test bias error', ascending = True, inplace = True)\n",
    "knn_non_stratified_k_fold_mejor_modelo = knn_non_stratified_k_fold[:1]"
   ]
  },
  {
   "cell_type": "code",
   "execution_count": 4,
   "metadata": {},
   "outputs": [],
   "source": [
    "knn_stratified_k_fold = pd.read_csv(path_knn + 'stratified_k_fold.csv', index_col=0, sep=\";\")\n",
    "\n",
    "\n",
    "knn_stratified_k_fold.sort_values(by='Test bias error', ascending = True, inplace = True)\n",
    "knn_stratified_k_fold_mejor_modelo = knn_stratified_k_fold[:1]"
   ]
  },
  {
   "cell_type": "markdown",
   "metadata": {},
   "source": [
    "# Linear kernel"
   ]
  },
  {
   "cell_type": "code",
   "execution_count": 5,
   "metadata": {},
   "outputs": [],
   "source": [
    "linear_bootstrap = pd.read_csv(path_linear + 'bootstrap.csv', index_col=0, sep=\";\")\n",
    "\n",
    "linear_bootstrap.sort_values(by='Test bias error', ascending = True, inplace = True)\n",
    "linear_bootstrap.head(10)\n",
    "\n",
    "\n",
    "linear_bootstrap_mejor_modelo = linear_bootstrap.iloc[0]\n",
    "#eleccion en base de la mayor varianza dentro del top 10 menores bias. Buen trade-off"
   ]
  },
  {
   "cell_type": "code",
   "execution_count": 6,
   "metadata": {},
   "outputs": [],
   "source": [
    "linear_non_stratified_k_fold = pd.read_csv(path_linear + 'non_stratified_k_fold.csv', index_col=0, sep=\";\")\n",
    "linear_non_stratified_k_fold.sort_values(by='Test bias error', ascending = True, inplace = True)\n",
    "linear_non_stratified_k_fold.head(10)\n",
    "\n",
    "\n",
    "linear_non_stratified_k_fold_mejor_modelo = linear_non_stratified_k_fold.iloc[0]\n",
    "# #eleccion en base de la mayor varianza dentro del top 10 menores bias. Buen trade-off"
   ]
  },
  {
   "cell_type": "code",
   "execution_count": 7,
   "metadata": {},
   "outputs": [],
   "source": [
    "linear_stratified_k_fold = pd.read_csv(path_linear + 'stratified_k_fold.csv', index_col=0, sep=\";\")\n",
    "linear_stratified_k_fold.sort_values(by='Test bias error', ascending = True, inplace = True)\n",
    "linear_stratified_k_fold.head(10)\n",
    "\n",
    "\n",
    "linear_stratified_k_fold_mejor_modelo = linear_stratified_k_fold.iloc[0]\n",
    "# #eleccion en base de la mayor varianza dentro del top 10 menores bias. Buen trade-off"
   ]
  },
  {
   "cell_type": "markdown",
   "metadata": {},
   "source": [
    "# Radial Basis Kernel"
   ]
  },
  {
   "cell_type": "code",
   "execution_count": 8,
   "metadata": {},
   "outputs": [],
   "source": [
    "radial_basis_bootstrap = pd.read_csv(path_radial_basis + 'bootstrap.csv', index_col=0, sep=\";\")\n",
    "radial_basis_bootstrap.sort_values(by='Test bias error', ascending = True, inplace = True)\n",
    "radial_basis_bootstrap.head(10)\n",
    "\n",
    "\n",
    "radial_basis_bootstrap_mejor_modelo = radial_basis_bootstrap.iloc[5]\n",
    "#eleccion en base de la mayor varianza dentro del top 10 menores bias. Buen trade-off"
   ]
  },
  {
   "cell_type": "code",
   "execution_count": 9,
   "metadata": {},
   "outputs": [],
   "source": [
    "radial_basis_non_stratified_k_fold = pd.read_csv(path_radial_basis + 'non_stratified_k_fold.csv', index_col=0, sep=\";\")\n",
    "radial_basis_non_stratified_k_fold.sort_values(by='Test bias error', ascending = True, inplace = True)\n",
    "radial_basis_non_stratified_k_fold.head(10)\n",
    "\n",
    "\n",
    "radial_basis_non_stratified_k_fold_mejor_modelo = radial_basis_non_stratified_k_fold.iloc[6]\n",
    "# #eleccion en base de la mayor varianza dentro del top 10 menores bias. Buen trade-off\n"
   ]
  },
  {
   "cell_type": "code",
   "execution_count": 10,
   "metadata": {},
   "outputs": [],
   "source": [
    "radial_basis_stratified_k_fold = pd.read_csv(path_radial_basis + 'stratified_k_fold.csv', index_col=0, sep=\";\")\n",
    "\n",
    "radial_basis_stratified_k_fold.sort_values(by='Test bias error', ascending = True, inplace = True)\n",
    "radial_basis_stratified_k_fold.head(10)\n",
    "\n",
    "\n",
    "radial_basis_stratified_k_fold_mejor_modelo = radial_basis_stratified_k_fold.iloc[2]\n",
    "# # #eleccion en base de la mayor varianza dentro del top 10 menores bias. Buen trade-off"
   ]
  }
 ],
 "metadata": {
  "kernelspec": {
   "display_name": "Python 3",
   "language": "python",
   "name": "python3"
  },
  "language_info": {
   "codemirror_mode": {
    "name": "ipython",
    "version": 3
   },
   "file_extension": ".py",
   "mimetype": "text/x-python",
   "name": "python",
   "nbconvert_exporter": "python",
   "pygments_lexer": "ipython3",
   "version": "3.7.6"
  }
 },
 "nbformat": 4,
 "nbformat_minor": 4
}
