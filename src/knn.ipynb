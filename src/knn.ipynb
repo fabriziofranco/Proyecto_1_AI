{
 "cells": [
  {
   "cell_type": "code",
   "execution_count": 2,
   "metadata": {},
   "outputs": [],
   "source": [
    "import utilitarios as utils # Funciones propias\n",
    "import pandas as pd\n",
    "import numpy as np\n",
    "from sklearn.neighbors import KNeighborsClassifier\n",
    "import math"
   ]
  },
  {
   "cell_type": "markdown",
   "metadata": {},
   "source": [
    "### Semilla"
   ]
  },
  {
   "cell_type": "code",
   "execution_count": 4,
   "metadata": {},
   "outputs": [],
   "source": [
    "random_seed = 2022 # Number of life :)"
   ]
  },
  {
   "cell_type": "markdown",
   "metadata": {},
   "source": [
    "### K-fold Cross Validation"
   ]
  },
  {
   "cell_type": "code",
   "execution_count": 5,
   "metadata": {},
   "outputs": [],
   "source": [
    "def test_k_fold(min_cuts , max_cuts, max_folds, neighbors, k_fold_func):\n",
    "    \"\"\"\n",
    "    test_k_fold realiza las pruebas experimentales para los k_folds\n",
    "\n",
    "    :param min_cuts: Cantidad mínima de cortes al vector característico.\n",
    "    :param max_cuts: Cantidad máxima de cortes al vector característico. \n",
    "    :param max_folds: Cantidad máxima de folds.\n",
    "    :param neighbors: Arreglo con los números de vecinos a evaluar.\n",
    "    :param k_fold_func: Puntero a la función para hallar los k_folds\n",
    "    :return dataframe: DataFrame de pandas con los resultados experimentales.\n",
    "    \"\"\"\n",
    "    X, y, X_raw = utils.get_data(src_dir=\"Data_preprocesada/\", iterations= min_cuts-1)\n",
    "\n",
    "    dataframe = []\n",
    "    columns = ['Number of cuts', 'Length of X', 'K fold', 'Neighbors',\n",
    "                'Train error', 'Train var. error', 'Train bias error', 'Train list errors',\n",
    "                'Test error', 'Test var. error', 'Test bias error', 'Test list errors',\n",
    "                ]\n",
    "\n",
    "    for iteration in range(min_cuts, max_cuts+1):\n",
    "        X, X_raw = utils.iterate_data(X_raw)\n",
    "        X = utils.normalization(X)\n",
    "        X_length = len(X[0])\n",
    "\n",
    "\n",
    "        for number_of_folds in range(2, max_folds+1):\n",
    "            k_folds_data = k_fold_func(X, y, number_of_folds, random_seed)\n",
    "\n",
    "            for neighbor in neighbors:\n",
    "                data_aux = [iteration, X_length, number_of_folds, neighbor]\n",
    "\n",
    "                clf = KNeighborsClassifier(n_neighbors=neighbor)\n",
    "\n",
    "                error_train = 0\n",
    "                bias_train = 0\n",
    "                varianza_train = 0\n",
    "                list_of_errors_train = []\n",
    "\n",
    "                error_test = 0\n",
    "                bias_test = 0\n",
    "                varianza_test = 0\n",
    "                list_of_errors_test = []\n",
    "\n",
    "                for i in range(number_of_folds):\n",
    "                    clf.fit(k_folds_data[i]['X_train'], k_folds_data[i]['y_train'])\n",
    "\n",
    "                    error_i_train = 1 - clf.score(k_folds_data[i]['X_train'], k_folds_data[i]['y_train'])\n",
    "                    error_i_test = 1 - clf.score(k_folds_data[i]['X_test'], k_folds_data[i]['y_test'])\n",
    "\n",
    "                    error_i_train = round(error_i_train,6)\n",
    "                    error_i_test = round(error_i_test,6)\n",
    "\n",
    "                    list_of_errors_train.append(error_i_train)\n",
    "                    list_of_errors_test.append(error_i_test)\n",
    "\n",
    "                error_train = sum(list_of_errors_train) / len(list_of_errors_train)\n",
    "                error_test = sum(list_of_errors_test) / len(list_of_errors_test)\n",
    "\n",
    "\n",
    "                varianza_train = sum((x-error_train)**2 for x in list_of_errors_train) / len(list_of_errors_train)\n",
    "                varianza_test = sum((x-error_test)**2 for x in list_of_errors_test) / len(list_of_errors_test)\n",
    "\n",
    "                bias_train = math.sqrt(error_train - varianza_train)\n",
    "                bias_test = math.sqrt(error_test - varianza_test)\n",
    "\n",
    "\n",
    "                data_aux.extend([error_train,varianza_train, bias_train,list_of_errors_train])\n",
    "                data_aux.extend([error_test,varianza_test, bias_test,list_of_errors_test])\n",
    "\n",
    "                dataframe.append(data_aux)\n",
    "\n",
    "    dataframe_estratificado = pd.DataFrame(data = dataframe, columns = columns)\n",
    "    return dataframe_estratificado"
   ]
  },
  {
   "cell_type": "markdown",
   "metadata": {},
   "source": [
    "### Bootstrap"
   ]
  },
  {
   "cell_type": "code",
   "execution_count": 6,
   "metadata": {},
   "outputs": [],
   "source": [
    "def test_bootstrap(min_cuts, max_cuts, max_subsets, training_sample, neighbors):\n",
    "    \"\"\"\n",
    "    test_bootstrap realiza las pruebas experimentales para el bootstrap validation.\n",
    "\n",
    "    :param min_cuts: Cantidad mínima de cortes al vector característico.\n",
    "    :param max_cuts: Cantidad máxima de cortes al vector característico. \n",
    "    :param max_subsets: Cantidad máxima de subsets bootstrap a evaluar.\n",
    "    :param training_sample: Porcentaje de datos que se van a considerar como parte del training.\n",
    "    :param neighbors: Arreglo con los números de vecinos a evaluar.\n",
    "    :return dataframe: DataFrame de pandas con los resultados experimentales.\n",
    "    \"\"\"\n",
    "    X, y, X_raw = utils.get_data(src_dir=\"Data_preprocesada/\", iterations= min_cuts-1)\n",
    "\n",
    "    dataframe = []\n",
    "    columns = ['Number of cuts', 'Length of X', 'K subsets', 'Neighbors',\n",
    "                'Train error', 'Train var. error', 'Train bias error', 'Train list errors',\n",
    "                'Test error', 'Test var. error', 'Test bias error', 'Test list errors',\n",
    "                ]\n",
    "\n",
    "\n",
    "    for iteration in range(min_cuts, max_cuts+1):\n",
    "        X, X_raw = utils.iterate_data(X_raw)\n",
    "        X = utils.normalization(X)\n",
    "        X_length = len(X[0])\n",
    "\n",
    "\n",
    "        for number_of_subsets in range(1, max_subsets+1):\n",
    "            k_subsets_data = utils.get_bootstrap_subsets(X, y, number_of_subsets, training_sample, random_seed)\n",
    "\n",
    "            for neighbor in neighbors:\n",
    "                data_aux = [iteration, X_length, number_of_subsets, neighbor]\n",
    "\n",
    "                clf = KNeighborsClassifier(n_neighbors=neighbor)\n",
    "\n",
    "                error_train = 0\n",
    "                bias_train = 0\n",
    "                varianza_train = 0\n",
    "                list_of_errors_train = []\n",
    "\n",
    "                error_test = 0\n",
    "                bias_test = 0\n",
    "                varianza_test = 0\n",
    "                list_of_errors_test = []\n",
    "\n",
    "                for i in range(number_of_subsets):\n",
    "                    clf.fit(k_subsets_data[i]['X_train'], k_subsets_data[i]['y_train'])\n",
    "\n",
    "                    error_i_train = 1 - clf.score(k_subsets_data[i]['X_train'], k_subsets_data[i]['y_train'])\n",
    "                    error_i_test = 1 - clf.score(k_subsets_data[i]['X_test'], k_subsets_data[i]['y_test'])\n",
    "\n",
    "                    error_i_train = round(error_i_train,6)\n",
    "                    error_i_test = round(error_i_test,6)\n",
    "\n",
    "                    list_of_errors_train.append(error_i_train)\n",
    "                    list_of_errors_test.append(error_i_test)\n",
    "\n",
    "                error_train = sum(list_of_errors_train) / len(list_of_errors_train)\n",
    "                error_test = sum(list_of_errors_test) / len(list_of_errors_test)\n",
    "\n",
    "\n",
    "                varianza_train = sum((x-error_train)**2 for x in list_of_errors_train) / len(list_of_errors_train)\n",
    "                varianza_test = sum((x-error_test)**2 for x in list_of_errors_test) / len(list_of_errors_test)\n",
    "\n",
    "                bias_train = math.sqrt(error_train - varianza_train)\n",
    "                bias_test = math.sqrt(error_test - varianza_test)\n",
    "\n",
    "\n",
    "                data_aux.extend([error_train,varianza_train, bias_train,list_of_errors_train])\n",
    "                data_aux.extend([error_test,varianza_test, bias_test,list_of_errors_test])\n",
    "\n",
    "                dataframe.append(data_aux)\n",
    "\n",
    "    dataframe_bootstrap = pd.DataFrame(data = dataframe, columns = columns)\n",
    "    return dataframe_bootstrap"
   ]
  },
  {
   "cell_type": "code",
   "execution_count": 7,
   "metadata": {},
   "outputs": [],
   "source": [
    "# df = test_k_fold(min_cuts=7, max_cuts=7, max_folds=3, neighbors=[1, 3], k_fold_func=utils.get_stratified_k_fold_cross_validation)\n",
    "# df\n",
    "\n",
    "# test_bootstrap(3, 3, 3, 0.7, [1, 3])"
   ]
  },
  {
   "cell_type": "code",
   "execution_count": 8,
   "metadata": {},
   "outputs": [],
   "source": [
    "min_cuts = 3\n",
    "max_cuts = 8\n",
    "max_folds = 8\n",
    "neighbors = [1, 3, 5, 20, 50, 100, 200]\n",
    "k_fold_func = utils.get_stratified_k_fold_cross_validation\n",
    "\n",
    "resultados_test_stratified_k_fold = test_k_fold(min_cuts, max_cuts, max_folds, neighbors, k_fold_func)"
   ]
  },
  {
   "cell_type": "code",
   "execution_count": 9,
   "metadata": {},
   "outputs": [],
   "source": [
    "min_cuts = 3\n",
    "max_cuts = 8\n",
    "max_folds = 8\n",
    "neighbors = [1, 3, 5, 20, 50, 100, 200]\n",
    "k_fold_func = utils.get_non_stratified_k_fold_cross_validation\n",
    "\n",
    "resultados_test_non_stratified_k_fold = test_k_fold(min_cuts, max_cuts, max_folds, neighbors, k_fold_func)"
   ]
  },
  {
   "cell_type": "code",
   "execution_count": 10,
   "metadata": {},
   "outputs": [],
   "source": [
    "min_cuts = 3\n",
    "max_cuts = 8\n",
    "max_subsets = 6\n",
    "training_sample = 0.7\n",
    "neighbors = [1, 3, 5, 20, 50, 100, 200]\n",
    "\n",
    "resultados_test_bootstrap = test_bootstrap(min_cuts, max_cuts, max_subsets, training_sample, neighbors)"
   ]
  },
  {
   "cell_type": "code",
   "execution_count": 13,
   "metadata": {},
   "outputs": [],
   "source": [
    "output_path = 'Resultados/knn/'\n",
    "resultados_test_stratified_k_fold.to_csv(output_path + 'stratified_k_fold.csv', sep=';')\n",
    "resultados_test_non_stratified_k_fold.to_csv(output_path + 'non_stratified_k_fold.csv', sep=';')\n",
    "resultados_test_bootstrap.to_csv(output_path + 'bootstrap.csv', sep=';')"
   ]
  }
 ],
 "metadata": {
  "interpreter": {
   "hash": "d99ae4127b7692ee37bb29636c1ff3b8dbb558ab7ed428de2a7abfd2e950a682"
  },
  "kernelspec": {
   "display_name": "Python 3",
   "language": "python",
   "name": "python3"
  },
  "language_info": {
   "codemirror_mode": {
    "name": "ipython",
    "version": 3
   },
   "file_extension": ".py",
   "mimetype": "text/x-python",
   "name": "python",
   "nbconvert_exporter": "python",
   "pygments_lexer": "ipython3",
   "version": "3.7.6"
  }
 },
 "nbformat": 4,
 "nbformat_minor": 2
}
