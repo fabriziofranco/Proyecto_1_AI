{
 "cells": [
  {
   "cell_type": "markdown",
   "metadata": {},
   "source": [
    "### Imports"
   ]
  },
  {
   "cell_type": "code",
   "execution_count": 1,
   "metadata": {},
   "outputs": [],
   "source": [
    "import utilitarios as utils #Funciones propias\n",
    "import pandas as pd\n",
    "import numpy as np\n",
    "import cv2\n",
    "from sklearn.svm import NuSVC\n",
    "from sklearn.pipeline import make_pipeline\n",
    "from sklearn.preprocessing import StandardScaler"
   ]
  },
  {
   "cell_type": "markdown",
   "metadata": {},
   "source": [
    "### Semilla"
   ]
  },
  {
   "cell_type": "code",
   "execution_count": 2,
   "metadata": {},
   "outputs": [],
   "source": [
    "random_seed = 42 #Number of life :) "
   ]
  },
  {
   "cell_type": "markdown",
   "metadata": {},
   "source": [
    "### Cantidad de muestras por categoria"
   ]
  },
  {
   "cell_type": "code",
   "execution_count": 3,
   "metadata": {},
   "outputs": [
    {
     "data": {
      "text/plain": [
       "{0: 195,\n",
       " 1: 2158,\n",
       " 2: 2466,\n",
       " 3: 1599,\n",
       " 4: 2239,\n",
       " 5: 2210,\n",
       " 6: 522,\n",
       " 7: 1640,\n",
       " 8: 1648,\n",
       " 9: 1560}"
      ]
     },
     "execution_count": 3,
     "metadata": {},
     "output_type": "execute_result"
    }
   ],
   "source": [
    "X, y, X_raw = utils.get_data(src_dir=\"Data_preprocesada/\", iterations=1)\n",
    "\n",
    "categories, counts =  np.unique(y, return_counts=True)\n",
    "dict(zip(categories, counts))"
   ]
  },
  {
   "cell_type": "markdown",
   "metadata": {},
   "source": [
    "### K-fold Cross Validation Estratificado"
   ]
  },
  {
   "cell_type": "code",
   "execution_count": 4,
   "metadata": {},
   "outputs": [],
   "source": [
    "def test_stratified_k_fold(min_cuts , max_cuts, max_folds):\n",
    "    X, y, X_raw = utils.get_data(src_dir=\"Data_preprocesada/\", iterations= min_cuts-1)\n",
    "\n",
    "    dataframe = []\n",
    "    columns = ['Number of cuts', 'Length of X']\n",
    "\n",
    "\n",
    "    for number_of_folds in range(2, max_folds+1):\n",
    "        columns.append(str(number_of_folds)+' folds Acc.(%)')\n",
    "\n",
    "    for iteration in range(min_cuts, max_cuts+1):\n",
    "        X, X_raw = utils.iterate_data(X_raw)\n",
    "        X = utils.normalization(X)\n",
    "        X_length = len(X[0])\n",
    "\n",
    "        data_aux = [iteration, X_length]\n",
    "\n",
    "        for number_of_folds in range(2, max_folds+1):\n",
    "            k_folds_data = utils.get_stratified_k_fold_cross_validation(X, y, number_of_folds, random_seed)\n",
    "\n",
    "            clf = make_pipeline(StandardScaler(), \n",
    "                                NuSVC(nu=0.10,kernel='rbf', class_weight = 'balanced',\n",
    "                                            random_state=random_seed, decision_function_shape='ovr', break_ties=True))\n",
    "\n",
    "            accuracy = 0\n",
    "\n",
    "            for i in range(number_of_folds):\n",
    "                clf.fit(k_folds_data[i]['X_train'], k_folds_data[i]['y_train'])\n",
    "                accuracy += (clf.score(k_folds_data[i]['X_test'], k_folds_data[i]['y_test']))/number_of_folds\n",
    "\n",
    "            data_aux.append(round(accuracy*100,2))\n",
    "        dataframe.append(data_aux)\n",
    "\n",
    "    dataframe_estratificado = pd.DataFrame(data = dataframe, columns = columns)\n",
    "    return dataframe_estratificado"
   ]
  },
  {
   "cell_type": "markdown",
   "metadata": {},
   "source": [
    "### K-fold Cross Validation no Estratificado"
   ]
  },
  {
   "cell_type": "code",
   "execution_count": 5,
   "metadata": {},
   "outputs": [],
   "source": [
    "def test_non_stratified_k_fold(min_cuts, max_cuts, max_folds):\n",
    "    X, y, X_raw = utils.get_data(src_dir=\"Data_preprocesada/\", iterations= min_cuts-1)\n",
    "\n",
    "    dataframe = []\n",
    "    columns = ['Number of cuts', 'Length of X']\n",
    "\n",
    "\n",
    "    for number_of_folds in range(2, max_folds+1):\n",
    "        columns.append(str(number_of_folds)+' folds Acc.(%)')\n",
    "\n",
    "    for iteration in range(min_cuts, max_cuts+1):\n",
    "        X, X_raw = utils.iterate_data(X_raw)\n",
    "        X = utils.normalization(X)\n",
    "        X_length = len(X[0])\n",
    "\n",
    "        data_aux = [iteration, X_length]\n",
    "\n",
    "        for number_of_folds in range(2, max_folds+1):\n",
    "            k_folds_data = utils.get_non_stratified_k_fold_cross_validation(X, y, number_of_folds, random_seed)\n",
    "\n",
    "            clf = make_pipeline(StandardScaler(), \n",
    "                                NuSVC(nu=0.10,kernel='rbf', class_weight = 'balanced',\n",
    "                                            random_state=random_seed, decision_function_shape='ovr', break_ties=True))\n",
    "\n",
    "            accuracy = 0\n",
    "\n",
    "            for i in range(number_of_folds):\n",
    "                clf.fit(k_folds_data[i]['X_train'], k_folds_data[i]['y_train'])\n",
    "                accuracy += (clf.score(k_folds_data[i]['X_test'], k_folds_data[i]['y_test']))/number_of_folds\n",
    "\n",
    "            data_aux.append(round(accuracy*100,2))\n",
    "        dataframe.append(data_aux)\n",
    "\n",
    "    dataframe_no_estratificado = pd.DataFrame(data = dataframe, columns = columns)\n",
    "    return dataframe_no_estratificado"
   ]
  },
  {
   "cell_type": "markdown",
   "metadata": {},
   "source": [
    "### Bootstrapping"
   ]
  },
  {
   "cell_type": "code",
   "execution_count": 9,
   "metadata": {},
   "outputs": [],
   "source": [
    "def test_bootstrap(min_cuts, max_cuts, max_subsets, training_sample):\n",
    "\n",
    "    X, y, X_raw = utils.get_data(src_dir=\"Data_preprocesada/\", iterations= min_cuts-1)\n",
    "\n",
    "    dataframe = []\n",
    "    columns = ['Number of cuts', 'Length of X']\n",
    "\n",
    "\n",
    "    for number_of_subsets in range(1, max_subsets+1):\n",
    "        columns.append(str(number_of_subsets)+' Subsets Acc.(%)')\n",
    "\n",
    "    for iteration in range(min_cuts, max_cuts+1):\n",
    "        X, X_raw = utils.iterate_data(X_raw)\n",
    "        X = utils.normalization(X)\n",
    "        X_length = len(X[0])\n",
    "\n",
    "        data_aux = [iteration, X_length]\n",
    "\n",
    "        for number_of_subsets in range(1, max_subsets+1):\n",
    "            k_subsets_data = utils.get_bootstrap_subsets(X, y, number_of_subsets, training_sample, random_seed)\n",
    "\n",
    "            clf = make_pipeline(StandardScaler(), \n",
    "                                NuSVC(nu=0.10,kernel='rbf', class_weight = 'balanced',\n",
    "                                            random_state=random_seed, decision_function_shape='ovr', break_ties=True))\n",
    "\n",
    "            accuracy = 0\n",
    "\n",
    "            for i in range(number_of_subsets):\n",
    "                clf.fit(k_subsets_data[i]['X_train'], k_subsets_data[i]['y_train'])\n",
    "                accuracy += (clf.score(k_subsets_data[i]['X_test'], k_subsets_data[i]['y_test']))/number_of_subsets\n",
    "\n",
    "            data_aux.append(round(accuracy*100,2))\n",
    "        dataframe.append(data_aux)\n",
    "\n",
    "    dataframe_bootstrap = pd.DataFrame(data = dataframe, columns = columns)\n",
    "    return dataframe_bootstrap"
   ]
  },
  {
   "cell_type": "markdown",
   "metadata": {},
   "source": [
    "### Experimientación"
   ]
  },
  {
   "cell_type": "code",
   "execution_count": 10,
   "metadata": {},
   "outputs": [
    {
     "data": {
      "text/html": [
       "<div>\n",
       "<style scoped>\n",
       "    .dataframe tbody tr th:only-of-type {\n",
       "        vertical-align: middle;\n",
       "    }\n",
       "\n",
       "    .dataframe tbody tr th {\n",
       "        vertical-align: top;\n",
       "    }\n",
       "\n",
       "    .dataframe thead th {\n",
       "        text-align: right;\n",
       "    }\n",
       "</style>\n",
       "<table border=\"1\" class=\"dataframe\">\n",
       "  <thead>\n",
       "    <tr style=\"text-align: right;\">\n",
       "      <th></th>\n",
       "      <th>Number of cuts</th>\n",
       "      <th>Length of X</th>\n",
       "      <th>1 Subsets Acc.(%)</th>\n",
       "      <th>2 Subsets Acc.(%)</th>\n",
       "      <th>3 Subsets Acc.(%)</th>\n",
       "    </tr>\n",
       "  </thead>\n",
       "  <tbody>\n",
       "    <tr>\n",
       "      <th>0</th>\n",
       "      <td>3</td>\n",
       "      <td>480</td>\n",
       "      <td>78.07</td>\n",
       "      <td>78.51</td>\n",
       "      <td>78.52</td>\n",
       "    </tr>\n",
       "  </tbody>\n",
       "</table>\n",
       "</div>"
      ],
      "text/plain": [
       "   Number of cuts  Length of X  1 Subsets Acc.(%)  2 Subsets Acc.(%)  \\\n",
       "0               3          480              78.07              78.51   \n",
       "\n",
       "   3 Subsets Acc.(%)  \n",
       "0              78.52  "
      ]
     },
     "execution_count": 10,
     "metadata": {},
     "output_type": "execute_result"
    }
   ],
   "source": [
    "strategy = 'bootstrapping'\n",
    "\n",
    "if strategy == 'stratified-kfolds':\n",
    "    min_cuts = 3\n",
    "    max_cuts =  8\n",
    "    max_folds = 8\n",
    "    resultados_experimentacion = test_stratified_k_fold(min_cuts,max_cuts,max_folds)\n",
    "\n",
    "elif strategy == 'non-stratified-kfolds':\n",
    "    min_cuts = 3\n",
    "    max_cuts =  8\n",
    "    max_folds = 8\n",
    "    resultados_experimentacion = test_non_stratified_k_fold(min_cuts,max_cuts,max_folds)\n",
    "elif strategy == 'bootstrapping':\n",
    "    min_cuts = 3\n",
    "    max_cuts =  3\n",
    "    max_subsets = 3\n",
    "    training_sample = 0.7\n",
    "\n",
    "    resultados_experimentacion = test_bootstrap(min_cuts, max_cuts, max_subsets, training_sample)\n",
    "    \n",
    "\n",
    "resultados_experimentacion"
   ]
  }
 ],
 "metadata": {
  "interpreter": {
   "hash": "60ba1e9c20a97bab95adc8fa7cd7536eabf7ae0f08621d987aa706dba1e5c7d3"
  },
  "kernelspec": {
   "display_name": "Python 3",
   "language": "python",
   "name": "python3"
  },
  "language_info": {
   "codemirror_mode": {
    "name": "ipython",
    "version": 3
   },
   "file_extension": ".py",
   "mimetype": "text/x-python",
   "name": "python",
   "nbconvert_exporter": "python",
   "pygments_lexer": "ipython3",
   "version": "3.7.6"
  }
 },
 "nbformat": 4,
 "nbformat_minor": 2
}
