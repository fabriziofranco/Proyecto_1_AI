{
 "cells": [
  {
   "cell_type": "markdown",
   "metadata": {},
   "source": [
    "### Imports"
   ]
  },
  {
   "cell_type": "code",
   "execution_count": 2,
   "metadata": {},
   "outputs": [],
   "source": [
    "import utilitarios as utils #Funciones propias\n",
    "import pandas as pd\n",
    "import numpy as np\n",
    "import cv2\n",
    "from sklearn.svm import NuSVC\n",
    "from sklearn.pipeline import make_pipeline\n",
    "from sklearn.preprocessing import StandardScaler"
   ]
  },
  {
   "cell_type": "markdown",
   "metadata": {},
   "source": [
    "### Semilla"
   ]
  },
  {
   "cell_type": "code",
   "execution_count": 3,
   "metadata": {},
   "outputs": [],
   "source": [
    "random_seed = 42 #Number of life :) "
   ]
  },
  {
   "cell_type": "code",
   "execution_count": 14,
   "metadata": {},
   "outputs": [
    {
     "name": "stdout",
     "output_type": "stream",
     "text": [
      "0.9586321014892444\n"
     ]
    }
   ],
   "source": [
    "X, y, X_raw = utils.get_data(src_dir=\"Data_preprocesada/\", iterations=5)\n",
    "\n",
    "from sklearn.model_selection import train_test_split\n",
    "X_train, X_test, y_train, y_test = train_test_split(X, y, test_size=0.33, random_state=42)\n",
    "\n",
    "\n",
    "clf = make_pipeline(StandardScaler(), \n",
    "                    NuSVC(nu=0.10,kernel='rbf', class_weight = 'balanced',\n",
    "                                random_state=random_seed, decision_function_shape='ovr', break_ties=True))\n",
    "\n",
    "\n",
    "clf.fit(X_train, y_train)\n",
    "print(clf.score(X_train,y_train))"
   ]
  },
  {
   "cell_type": "markdown",
   "metadata": {},
   "source": [
    "### Cantidad de muestras por categoria"
   ]
  },
  {
   "cell_type": "code",
   "execution_count": 4,
   "metadata": {},
   "outputs": [
    {
     "data": {
      "text/plain": [
       "{0: 195,\n",
       " 1: 2158,\n",
       " 2: 2466,\n",
       " 3: 1599,\n",
       " 4: 2239,\n",
       " 5: 2210,\n",
       " 6: 522,\n",
       " 7: 1640,\n",
       " 8: 1648,\n",
       " 9: 1560}"
      ]
     },
     "execution_count": 4,
     "metadata": {},
     "output_type": "execute_result"
    }
   ],
   "source": [
    "X, y, X_raw = utils.get_data(src_dir=\"Data_preprocesada/\", iterations=1)\n",
    "\n",
    "categories, counts =  np.unique(y, return_counts=True)\n",
    "dict(zip(categories, counts))"
   ]
  },
  {
   "cell_type": "markdown",
   "metadata": {},
   "source": [
    "### K-fold Cross Validation Estratificado"
   ]
  },
  {
   "cell_type": "code",
   "execution_count": 5,
   "metadata": {},
   "outputs": [],
   "source": [
    "def test_stratified_k_fold(min_cuts , max_cuts, max_folds):\n",
    "    X, y, X_raw = utils.get_data(src_dir=\"Data_preprocesada/\", iterations= min_cuts-1)\n",
    "\n",
    "    dataframe = []\n",
    "    columns = ['Number of cuts', 'Length of X']\n",
    "\n",
    "\n",
    "    for number_of_folds in range(2, max_folds+1):\n",
    "        columns.append(str(number_of_folds)+' folds Acc.(%)')\n",
    "\n",
    "    for iteration in range(min_cuts, max_cuts+1):\n",
    "        X, X_raw = utils.iterate_data(X_raw)\n",
    "        X = utils.normalization(X)\n",
    "        X_length = len(X[0])\n",
    "\n",
    "        data_aux = [iteration, X_length]\n",
    "\n",
    "        for number_of_folds in range(2, max_folds+1):\n",
    "            k_folds_data = utils.get_stratified_k_fold_cross_validation(X, y, number_of_folds, random_seed)\n",
    "\n",
    "            clf = make_pipeline(StandardScaler(), \n",
    "                                NuSVC(nu=0.10,kernel='rbf', class_weight = 'balanced',\n",
    "                                            random_state=random_seed, decision_function_shape='ovr', break_ties=True))\n",
    "\n",
    "            accuracy = 0\n",
    "\n",
    "            for i in range(number_of_folds):\n",
    "                clf.fit(k_folds_data[i]['X_train'], k_folds_data[i]['y_train'])\n",
    "                accuracy += (clf.score(k_folds_data[i]['X_test'], k_folds_data[i]['y_test']))/number_of_folds\n",
    "\n",
    "            data_aux.append(round(accuracy*100,2))\n",
    "        dataframe.append(data_aux)\n",
    "\n",
    "    dataframe_estratificado = pd.DataFrame(data = dataframe, columns = columns)\n",
    "    return dataframe_estratificado"
   ]
  },
  {
   "cell_type": "markdown",
   "metadata": {},
   "source": [
    "### K-fold Cross Validation no Estratificado"
   ]
  },
  {
   "cell_type": "code",
   "execution_count": 6,
   "metadata": {},
   "outputs": [],
   "source": [
    "def test_non_stratified_k_fold(min_cuts, max_cuts, max_folds):\n",
    "    X, y, X_raw = utils.get_data(src_dir=\"Data_preprocesada/\", iterations= min_cuts-1)\n",
    "\n",
    "    dataframe = []\n",
    "    columns = ['Number of cuts', 'Length of X']\n",
    "\n",
    "\n",
    "    for number_of_folds in range(2, max_folds+1):\n",
    "        columns.append(str(number_of_folds)+' folds Acc.(%)')\n",
    "\n",
    "    for iteration in range(min_cuts, max_cuts+1):\n",
    "        X, X_raw = utils.iterate_data(X_raw)\n",
    "        X = utils.normalization(X)\n",
    "        X_length = len(X[0])\n",
    "\n",
    "        data_aux = [iteration, X_length]\n",
    "\n",
    "        for number_of_folds in range(2, max_folds+1):\n",
    "            k_folds_data = utils.get_non_stratified_k_fold_cross_validation(X, y, number_of_folds, random_seed)\n",
    "\n",
    "            clf = make_pipeline(StandardScaler(), \n",
    "                                NuSVC(nu=0.10,kernel='rbf', class_weight = 'balanced',\n",
    "                                            random_state=random_seed, decision_function_shape='ovr', break_ties=True))\n",
    "\n",
    "            accuracy = 0\n",
    "\n",
    "            for i in range(number_of_folds):\n",
    "                clf.fit(k_folds_data[i]['X_train'], k_folds_data[i]['y_train'])\n",
    "                accuracy += (clf.score(k_folds_data[i]['X_test'], k_folds_data[i]['y_test']))/number_of_folds\n",
    "\n",
    "            data_aux.append(round(accuracy*100,2))\n",
    "        dataframe.append(data_aux)\n",
    "\n",
    "    dataframe_no_estratificado = pd.DataFrame(data = dataframe, columns = columns)\n",
    "    return dataframe_no_estratificado"
   ]
  },
  {
   "cell_type": "markdown",
   "metadata": {},
   "source": [
    "### Bootstrapping"
   ]
  },
  {
   "cell_type": "code",
   "execution_count": 7,
   "metadata": {},
   "outputs": [],
   "source": [
    "def test_bootstrap(min_cuts, max_cuts, max_subsets, training_sample):\n",
    "\n",
    "    X, y, X_raw = utils.get_data(src_dir=\"Data_preprocesada/\", iterations= min_cuts-1)\n",
    "\n",
    "    dataframe = []\n",
    "    columns = ['Number of cuts', 'Length of X', 'K subsets',\n",
    "                'Train error', 'Train var. error', 'Train bias error', 'Train list errors',\n",
    "                'Test error', 'Test var. error', 'Test bias error', 'Test list errors',\n",
    "                ]\n",
    "\n",
    "\n",
    "    for iteration in range(min_cuts, max_cuts+1):\n",
    "        X, X_raw = utils.iterate_data(X_raw)\n",
    "        X = utils.normalization(X)\n",
    "        X_length = len(X[0])\n",
    "\n",
    "\n",
    "        for number_of_subsets in range(1, max_subsets+1):\n",
    "            data_aux = [iteration, X_length, number_of_subsets]\n",
    "\n",
    "            k_subsets_data = utils.get_bootstrap_subsets(X, y, number_of_subsets, training_sample, random_seed)\n",
    "\n",
    "            clf = make_pipeline(StandardScaler(), \n",
    "                                NuSVC(nu=0.10,kernel='rbf', class_weight = 'balanced',\n",
    "                                            random_state=random_seed, decision_function_shape='ovr', break_ties=True))\n",
    "\n",
    "            error_train = 0\n",
    "            bias_train = 0\n",
    "            varianza_train = 0\n",
    "            list_of_errors_train = []\n",
    "\n",
    "            error_test = 0\n",
    "            bias_test = 0\n",
    "            varianza_test = 0\n",
    "            list_of_errors_test = []\n",
    "\n",
    "            for i in range(number_of_subsets):\n",
    "                clf.fit(k_subsets_data[i]['X_train'], k_subsets_data[i]['y_train'])\n",
    "\n",
    "                error_i_train = 1 - clf.score(k_subsets_data[i]['X_train'], k_subsets_data[i]['y_train'])\n",
    "                error_i_test = 1 - clf.score(k_subsets_data[i]['X_test'], k_subsets_data[i]['y_test'])\n",
    "\n",
    "                list_of_errors_train.append(error_i_train)\n",
    "                list_of_errors_test.append(error_i_test)\n",
    "\n",
    "            error_train = sum(list_of_errors_train) / len(list_of_errors_train)\n",
    "            error_test = sum(list_of_errors_test) / len(list_of_errors_test)\n",
    "\n",
    "\n",
    "            varianza_train = sum((x-error_train)**2 for x in list_of_errors_train) / len(list_of_errors_train)\n",
    "            varianza_test = sum((x-error_test)**2 for x in list_of_errors_test) / len(list_of_errors_test)\n",
    "\n",
    "\n",
    "\n",
    "            data_aux.extend([error_train,varianza_train, bias_train,list_of_errors_train])\n",
    "            data_aux.extend([error_test,varianza_test, bias_test,list_of_errors_test])\n",
    "\n",
    "            dataframe.append(data_aux)\n",
    "\n",
    "    dataframe_bootstrap = pd.DataFrame(data = dataframe, columns = columns)\n",
    "    return dataframe_bootstrap"
   ]
  },
  {
   "cell_type": "markdown",
   "metadata": {},
   "source": [
    "### Experimientación"
   ]
  },
  {
   "cell_type": "code",
   "execution_count": 8,
   "metadata": {},
   "outputs": [],
   "source": [
    "min_cuts = 3\n",
    "max_cuts =  8\n",
    "max_folds = 8\n",
    "\n",
    "#resultados_test_stratified_k_fold = test_stratified_k_fold(min_cuts,max_cuts,max_folds)\n",
    "\n",
    "min_cuts = 3\n",
    "max_cuts =  8\n",
    "max_folds = 8\n",
    "\n",
    "#resultados_test_non_stratified_k_fold = test_non_stratified_k_fold(min_cuts,max_cuts,max_folds)\n",
    "\n",
    "min_cuts = 3\n",
    "max_cuts =  3\n",
    "max_subsets = 3\n",
    "training_sample = 0.7\n",
    "\n",
    "resultados_test_bootstrap = test_bootstrap(min_cuts, max_cuts, max_subsets, training_sample)\n",
    "resultados_test_bootstrap"
   ]
  },
  {
   "cell_type": "markdown",
   "metadata": {},
   "source": [
    "### Exportar resultados"
   ]
  },
  {
   "cell_type": "code",
   "execution_count": 9,
   "metadata": {},
   "outputs": [],
   "source": [
    "output_path = 'Resultados/radial_basis_kernel/'\n",
    "\n",
    "# resultados_test_stratified_k_fold.to_csv(output_path + 'stratified_k_fold.csv', delimiter = \";\")\n",
    "# resultados_test_non_stratified_k_fold.to_csv(output_path + 'non_stratified_k_fold.csv', delimiter = \";\")\n",
    "# resultados_test_bootstrap.to_csv(output_path + 'bootstrap.csv', delimiter = \";\")"
   ]
  }
 ],
 "metadata": {
  "interpreter": {
   "hash": "60ba1e9c20a97bab95adc8fa7cd7536eabf7ae0f08621d987aa706dba1e5c7d3"
  },
  "kernelspec": {
   "display_name": "Python 3",
   "language": "python",
   "name": "python3"
  },
  "language_info": {
   "codemirror_mode": {
    "name": "ipython",
    "version": 3
   },
   "file_extension": ".py",
   "mimetype": "text/x-python",
   "name": "python",
   "nbconvert_exporter": "python",
   "pygments_lexer": "ipython3",
   "version": "3.7.6"
  }
 },
 "nbformat": 4,
 "nbformat_minor": 2
}
