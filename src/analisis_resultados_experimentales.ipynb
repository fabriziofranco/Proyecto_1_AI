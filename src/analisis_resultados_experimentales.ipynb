{
 "cells": [
  {
   "cell_type": "markdown",
   "metadata": {},
   "source": [
    "# Análisis de resultados experimentales"
   ]
  },
  {
   "cell_type": "markdown",
   "metadata": {},
   "source": [
    "### Lectura de datos"
   ]
  },
  {
   "cell_type": "code",
   "execution_count": 1,
   "metadata": {},
   "outputs": [],
   "source": [
    "import pandas as pd\n",
    "import numpy as np\n",
    "import matplotlib.pyplot as plt\n",
    "\n",
    "path_knn = 'Resultados/knn/'\n",
    "path_radial_basis = 'Resultados/radial_basis_kernel/'\n",
    "path_linear = 'Resultados/linear_kernel/'\n",
    "\n",
    "columns = ['Number of cuts','Length of X','K subsets',\n",
    "            'Train error','Train var. error','Train bias error','Train list errors',\n",
    "            'Test error','Test var. error','Test bias error','Test list errors'\n",
    "        ]\n",
    "\n",
    "#  KNN\n",
    "knn_bootstrap = pd.read_csv(path_knn + 'bootstrap.csv', skiprows=1, header=None, names=columns, sep=\";\")\n",
    "knn_stratified_k_fold = pd.read_csv(path_knn + 'stratified_k_fold.csv', skiprows=1, header=None, names=columns, sep=\";\")\n",
    "knn_non_stratified_k_fold = pd.read_csv(path_knn + 'non_stratified_k_fold.csv', skiprows=1, header=None, names=columns, sep=\";\")\n",
    "\n",
    "# Radial Basi\n",
    "radial_basis_bootstrap = pd.read_csv(path_radial_basis + 'bootstrap.csv', skiprows=1, header=None, names=columns, sep=\";\")\n",
    "radial_basis_stratified_k_fold = pd.read_csv(path_radial_basis + 'stratified_k_fold.csv', skiprows=1, header=None, names=columns, sep=\";\")\n",
    "radial_basis_non_stratified_k_fold = pd.read_csv(path_radial_basis + 'non_stratified_k_fold.csv', skiprows=1, header=None, names=columns, sep=\";\")\n",
    "\n",
    "# Linear\n",
    "linear_bootstrap = pd.read_csv(path_linear + 'bootstrap.csv', skiprows=1, header=None, names=columns, sep=\";\")\n",
    "linear_stratified_k_fold = pd.read_csv(path_linear + 'stratified_k_fold.csv', skiprows=1, header=None, names=columns, sep=\";\")\n",
    "linear_non_stratified_k_fold = pd.read_csv(path_linear + 'non_stratified_k_fold.csv', skiprows=1, header=None, names=columns, sep=\";\")\n"
   ]
  },
  {
   "cell_type": "markdown",
   "metadata": {},
   "source": [
    "### Número de características vs. Número de cortes"
   ]
  },
  {
   "cell_type": "code",
   "execution_count": null,
   "metadata": {},
   "outputs": [],
   "source": []
  },
  {
   "cell_type": "markdown",
   "metadata": {},
   "source": [
    "# K Nearest Neighbor (KNN)"
   ]
  },
  {
   "cell_type": "markdown",
   "metadata": {},
   "source": [
    "## Bootstrap"
   ]
  },
  {
   "cell_type": "markdown",
   "metadata": {},
   "source": [
    "### Número de cortes vs. Error de training y de testing"
   ]
  },
  {
   "cell_type": "code",
   "execution_count": null,
   "metadata": {},
   "outputs": [],
   "source": []
  },
  {
   "cell_type": "markdown",
   "metadata": {},
   "source": [
    "### Número de subsets (K) vs. error de training y testing"
   ]
  },
  {
   "cell_type": "code",
   "execution_count": null,
   "metadata": {},
   "outputs": [],
   "source": []
  },
  {
   "cell_type": "markdown",
   "metadata": {},
   "source": []
  }
 ],
 "metadata": {
  "interpreter": {
   "hash": "60ba1e9c20a97bab95adc8fa7cd7536eabf7ae0f08621d987aa706dba1e5c7d3"
  },
  "kernelspec": {
   "display_name": "Python 3.7.6 ('base')",
   "language": "python",
   "name": "python3"
  },
  "language_info": {
   "codemirror_mode": {
    "name": "ipython",
    "version": 3
   },
   "file_extension": ".py",
   "mimetype": "text/x-python",
   "name": "python",
   "nbconvert_exporter": "python",
   "pygments_lexer": "ipython3",
   "version": "3.7.6"
  },
  "orig_nbformat": 4
 },
 "nbformat": 4,
 "nbformat_minor": 2
}
